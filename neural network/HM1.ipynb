{
 "cells": [
  {
   "cell_type": "code",
   "execution_count": 1,
   "metadata": {},
   "outputs": [],
   "source": [
    "import numpy as np\n",
    "import pandas as pd\n",
    "from tensorflow import keras\n",
    "from sklearn.preprocessing import LabelEncoder"
   ]
  },
  {
   "cell_type": "markdown",
   "metadata": {},
   "source": [
    "downloading the dataset"
   ]
  },
  {
   "cell_type": "code",
   "execution_count": 2,
   "metadata": {},
   "outputs": [],
   "source": [
    "training_data = pd.read_csv(\"train.csv\")\n",
    "testing_data = pd.read_csv(\"test.csv\")"
   ]
  },
  {
   "cell_type": "code",
   "execution_count": 3,
   "metadata": {},
   "outputs": [
    {
     "name": "stdout",
     "output_type": "stream",
     "text": [
      "        Gender      Customer Type  Age   Type of Travel     Class  \\\n",
      "0         Male     Loyal Customer   13  Personal Travel  Eco Plus   \n",
      "1         Male  disloyal Customer   25  Business travel  Business   \n",
      "2       Female     Loyal Customer   26  Business travel  Business   \n",
      "3       Female     Loyal Customer   25  Business travel  Business   \n",
      "4         Male     Loyal Customer   61  Business travel  Business   \n",
      "...        ...                ...  ...              ...       ...   \n",
      "103899  Female  disloyal Customer   23  Business travel       Eco   \n",
      "103900    Male     Loyal Customer   49  Business travel  Business   \n",
      "103901    Male  disloyal Customer   30  Business travel  Business   \n",
      "103902  Female  disloyal Customer   22  Business travel       Eco   \n",
      "103903    Male     Loyal Customer   27  Business travel  Business   \n",
      "\n",
      "        Flight Distance  Departure Delay in Minutes  Arrival Delay in Minutes  \n",
      "0                   460                          25                      18.0  \n",
      "1                   235                           1                       6.0  \n",
      "2                  1142                           0                       0.0  \n",
      "3                   562                          11                       9.0  \n",
      "4                   214                           0                       0.0  \n",
      "...                 ...                         ...                       ...  \n",
      "103899              192                           3                       0.0  \n",
      "103900             2347                           0                       0.0  \n",
      "103901             1995                           7                      14.0  \n",
      "103902             1000                           0                       0.0  \n",
      "103903             1723                           0                       0.0  \n",
      "\n",
      "[103594 rows x 8 columns]\n"
     ]
    }
   ],
   "source": [
    "features = ['Gender', 'Customer Type', 'Age', 'Type of Travel', 'Class', 'Flight Distance', 'Departure Delay in Minutes', 'Arrival Delay in Minutes', \"satisfaction\"] \n",
    "train_X = training_data[features]\n",
    "train_X = train_X.dropna()\n",
    "train_Y = train_X[\"satisfaction\"]\n",
    "train_X = train_X.drop(columns=[\"satisfaction\"])\n",
    "print(train_X)"
   ]
  },
  {
   "cell_type": "code",
   "execution_count": 4,
   "metadata": {},
   "outputs": [
    {
     "name": "stdout",
     "output_type": "stream",
     "text": [
      "       Gender      Customer Type  Age   Type of Travel     Class  \\\n",
      "0      Female     Loyal Customer   52  Business travel       Eco   \n",
      "1      Female     Loyal Customer   36  Business travel  Business   \n",
      "2        Male  disloyal Customer   20  Business travel       Eco   \n",
      "3        Male     Loyal Customer   44  Business travel  Business   \n",
      "4      Female     Loyal Customer   49  Business travel       Eco   \n",
      "...       ...                ...  ...              ...       ...   \n",
      "25971    Male  disloyal Customer   34  Business travel  Business   \n",
      "25972    Male     Loyal Customer   23  Business travel  Business   \n",
      "25973  Female     Loyal Customer   17  Personal Travel       Eco   \n",
      "25974    Male     Loyal Customer   14  Business travel  Business   \n",
      "25975  Female     Loyal Customer   42  Personal Travel       Eco   \n",
      "\n",
      "       Flight Distance  Departure Delay in Minutes  Arrival Delay in Minutes  \n",
      "0                  160                          50                      44.0  \n",
      "1                 2863                           0                       0.0  \n",
      "2                  192                           0                       0.0  \n",
      "3                 3377                           0                       6.0  \n",
      "4                 1182                           0                      20.0  \n",
      "...                ...                         ...                       ...  \n",
      "25971              526                           0                       0.0  \n",
      "25972              646                           0                       0.0  \n",
      "25973              828                           0                       0.0  \n",
      "25974             1127                           0                       0.0  \n",
      "25975              264                           0                       0.0  \n",
      "\n",
      "[25893 rows x 8 columns]\n"
     ]
    }
   ],
   "source": [
    "test_X = testing_data[features]\n",
    "test_X = test_X.dropna()\n",
    "test_Y = test_X[\"satisfaction\"]\n",
    "test_X = test_X.drop(columns=[\"satisfaction\"])\n",
    "print(test_X)"
   ]
  },
  {
   "cell_type": "code",
   "execution_count": 5,
   "metadata": {},
   "outputs": [
    {
     "name": "stdout",
     "output_type": "stream",
     "text": [
      "['Female' 'Male']\n",
      "['Loyal Customer' 'disloyal Customer']\n",
      "['Business' 'Eco' 'Eco Plus']\n",
      "['Business travel' 'Personal Travel']\n"
     ]
    }
   ],
   "source": [
    "le = LabelEncoder()\n",
    "le.fit(train_X[\"Gender\"])\n",
    "print(le.classes_)\n",
    "le.fit(train_X[\"Customer Type\"])\n",
    "print(le.classes_) \n",
    "le.fit(train_X[\"Class\"])\n",
    "print(le.classes_) \n",
    "le.fit(train_X[\"Type of Travel\"])\n",
    "print(le.classes_)  "
   ]
  },
  {
   "cell_type": "code",
   "execution_count": 6,
   "metadata": {},
   "outputs": [
    {
     "name": "stdout",
     "output_type": "stream",
     "text": [
      "       Gender Customer Type  Age Type of Travel Class  Flight Distance  \\\n",
      "0           0             0   13              1     2              460   \n",
      "1           0             1   25              0     0              235   \n",
      "2           1             0   26              0     0             1142   \n",
      "3           1             0   25              0     0              562   \n",
      "4           0             0   61              0     0              214   \n",
      "...       ...           ...  ...            ...   ...              ...   \n",
      "103899      1             1   23              0     1              192   \n",
      "103900      0             0   49              0     0             2347   \n",
      "103901      0             1   30              0     0             1995   \n",
      "103902      1             1   22              0     1             1000   \n",
      "103903      0             0   27              0     0             1723   \n",
      "\n",
      "        Departure Delay in Minutes  Arrival Delay in Minutes  \n",
      "0                               25                      18.0  \n",
      "1                                1                       6.0  \n",
      "2                                0                       0.0  \n",
      "3                               11                       9.0  \n",
      "4                                0                       0.0  \n",
      "...                            ...                       ...  \n",
      "103899                           3                       0.0  \n",
      "103900                           0                       0.0  \n",
      "103901                           7                      14.0  \n",
      "103902                           0                       0.0  \n",
      "103903                           0                       0.0  \n",
      "\n",
      "[103594 rows x 8 columns]\n"
     ]
    }
   ],
   "source": [
    "train_X.loc[train_X[\"Gender\"] == \"Male\", \"Gender\"] = 0\n",
    "train_X.loc[train_X[\"Gender\"] == \"Female\", \"Gender\"] = 1\n",
    "train_X.loc[train_X[\"Customer Type\"] == \"Loyal Customer\", \"Customer Type\"] = 0\n",
    "train_X.loc[train_X[\"Customer Type\"] == \"disloyal Customer\", \"Customer Type\"] = 1\n",
    "train_X.loc[train_X[\"Type of Travel\"] == \"Business travel\", \"Type of Travel\"] = 0\n",
    "train_X.loc[train_X[\"Type of Travel\"] == \"Personal Travel\", \"Type of Travel\"] = 1\n",
    "train_X.loc[train_X[\"Class\"] == \"Business\", \"Class\"] = 0\n",
    "train_X.loc[train_X[\"Class\"] == \"Eco\", \"Class\"] = 1\n",
    "train_X.loc[train_X[\"Class\"] == \"Eco Plus\", \"Class\"] = 2\n",
    "print(train_X)"
   ]
  },
  {
   "cell_type": "code",
   "execution_count": 7,
   "metadata": {},
   "outputs": [
    {
     "name": "stdout",
     "output_type": "stream",
     "text": [
      "['neutral or dissatisfied' 'satisfied']\n"
     ]
    }
   ],
   "source": [
    "le.fit(train_Y)\n",
    "print(le.classes_)  \n",
    "train_Y = train_Y.apply(lambda x: 1 if x == 'satisfied' else 0)"
   ]
  },
  {
   "cell_type": "code",
   "execution_count": 8,
   "metadata": {},
   "outputs": [
    {
     "name": "stdout",
     "output_type": "stream",
     "text": [
      "      Gender Customer Type  Age Type of Travel Class  Flight Distance  \\\n",
      "0          1             0   52              0     1              160   \n",
      "1          1             0   36              0     0             2863   \n",
      "2          0             1   20              0     1              192   \n",
      "3          0             0   44              0     0             3377   \n",
      "4          1             0   49              0     1             1182   \n",
      "...      ...           ...  ...            ...   ...              ...   \n",
      "25971      0             1   34              0     0              526   \n",
      "25972      0             0   23              0     0              646   \n",
      "25973      1             0   17              1     1              828   \n",
      "25974      0             0   14              0     0             1127   \n",
      "25975      1             0   42              1     1              264   \n",
      "\n",
      "       Departure Delay in Minutes  Arrival Delay in Minutes  \n",
      "0                              50                      44.0  \n",
      "1                               0                       0.0  \n",
      "2                               0                       0.0  \n",
      "3                               0                       6.0  \n",
      "4                               0                      20.0  \n",
      "...                           ...                       ...  \n",
      "25971                           0                       0.0  \n",
      "25972                           0                       0.0  \n",
      "25973                           0                       0.0  \n",
      "25974                           0                       0.0  \n",
      "25975                           0                       0.0  \n",
      "\n",
      "[25893 rows x 8 columns]\n"
     ]
    }
   ],
   "source": [
    "test_X.loc[test_X[\"Gender\"] == \"Male\", \"Gender\"] = 0\n",
    "test_X.loc[test_X[\"Gender\"] == \"Female\", \"Gender\"] = 1\n",
    "test_X.loc[test_X[\"Customer Type\"] == \"Loyal Customer\", \"Customer Type\"] = 0\n",
    "test_X.loc[test_X[\"Customer Type\"] == \"disloyal Customer\", \"Customer Type\"] = 1\n",
    "test_X.loc[test_X[\"Type of Travel\"] == \"Business travel\", \"Type of Travel\"] = 0\n",
    "test_X.loc[test_X[\"Type of Travel\"] == \"Personal Travel\", \"Type of Travel\"] = 1\n",
    "test_X.loc[test_X[\"Class\"] == \"Business\", \"Class\"] = 0\n",
    "test_X.loc[test_X[\"Class\"] == \"Eco\", \"Class\"] = 1\n",
    "test_X.loc[test_X[\"Class\"] == \"Eco Plus\", \"Class\"] = 2\n",
    "print(test_X)"
   ]
  },
  {
   "cell_type": "code",
   "execution_count": 9,
   "metadata": {},
   "outputs": [],
   "source": [
    "test_Y = test_Y.apply(lambda x: 1 if x == 'satisfied' else 0)"
   ]
  },
  {
   "cell_type": "code",
   "execution_count": 10,
   "metadata": {},
   "outputs": [],
   "source": [
    "# nan_values_dict = {\n",
    "#     'Gender': -1,\n",
    "#     'Customer Type': -1,\n",
    "#     'Age': -1,\n",
    "#     \"Type of Travel\": -1,\n",
    "#     'Class': -1,\n",
    "#     'Flight Distance': -1,\n",
    "#     ' Departure Delay in Minutes': -1,\n",
    "#     'Arrival Delay in Minutes': -1,\n",
    "# }\n",
    "# train_X = train_X.fillna(nan_values_dict)\n",
    "# test_X = test_X.fillna(nan_values_dict)\n",
    "# print(train_X)"
   ]
  },
  {
   "cell_type": "code",
   "execution_count": 11,
   "metadata": {},
   "outputs": [
    {
     "name": "stdout",
     "output_type": "stream",
     "text": [
      "       Gender Customer Type       Age Type of Travel Class  Flight Distance  \\\n",
      "0           0             0 -1.745542              1     2        -0.731305   \n",
      "1           0             1 -0.951526              0     0        -0.956916   \n",
      "2           1             0 -0.885358              0     0        -0.047454   \n",
      "3           1             0 -0.951526              0     0        -0.629028   \n",
      "4           0             0  1.430521              0     0        -0.977973   \n",
      "...       ...           ...       ...            ...   ...              ...   \n",
      "103899      1             1 -1.083862              0     1        -1.000033   \n",
      "103900      0             0  0.636505              0     0         1.160818   \n",
      "103901      0             1 -0.620686              0     0         0.807862   \n",
      "103902      1             1 -1.150030              0     1        -0.189839   \n",
      "103903      0             0 -0.819190              0     0         0.535124   \n",
      "\n",
      "        Departure Delay in Minutes  Arrival Delay in Minutes  \n",
      "0                         0.268966                  0.072905  \n",
      "1                        -0.360682                 -0.237184  \n",
      "2                        -0.386917                 -0.392229  \n",
      "3                        -0.098328                 -0.159662  \n",
      "4                        -0.386917                 -0.392229  \n",
      "...                            ...                       ...  \n",
      "103899                   -0.308211                 -0.392229  \n",
      "103900                   -0.386917                 -0.392229  \n",
      "103901                   -0.203270                 -0.030458  \n",
      "103902                   -0.386917                 -0.392229  \n",
      "103903                   -0.386917                 -0.392229  \n",
      "\n",
      "[103594 rows x 8 columns]\n"
     ]
    }
   ],
   "source": [
    "num_features = [\"Age\", \"Flight Distance\", \"Departure Delay in Minutes\", \"Arrival Delay in Minutes\"]\n",
    "for feature in num_features:\n",
    "    train_X[feature] = (train_X[feature]-np.mean(train_X[feature])) / np.std(train_X[feature])\n",
    "\n",
    "print(train_X)"
   ]
  },
  {
   "cell_type": "code",
   "execution_count": 12,
   "metadata": {},
   "outputs": [
    {
     "name": "stdout",
     "output_type": "stream",
     "text": [
      "      Gender Customer Type       Age Type of Travel Class  Flight Distance  \\\n",
      "0          1             0  0.817898              0     1        -1.035195   \n",
      "1          1             0 -0.239329              0     0         1.671574   \n",
      "2          0             1 -1.296556              0     1        -1.003150   \n",
      "3          0             0  0.289285              0     0         2.186291   \n",
      "4          1             0  0.619668              0     1        -0.011770   \n",
      "...      ...           ...       ...            ...   ...              ...   \n",
      "25971      0             1 -0.371482              0     0        -0.668684   \n",
      "25972      0             0 -1.098326              0     0        -0.548517   \n",
      "25973      1             0 -1.494786              1     1        -0.366263   \n",
      "25974      0             0 -1.693016              0     0        -0.066846   \n",
      "25975      1             0  0.157131              1     1        -0.931050   \n",
      "\n",
      "       Departure Delay in Minutes  Arrival Delay in Minutes  \n",
      "0                        0.962074                  0.779894  \n",
      "1                       -0.382547                 -0.392913  \n",
      "2                       -0.382547                 -0.392913  \n",
      "3                       -0.382547                 -0.232985  \n",
      "4                       -0.382547                  0.140181  \n",
      "...                           ...                       ...  \n",
      "25971                   -0.382547                 -0.392913  \n",
      "25972                   -0.382547                 -0.392913  \n",
      "25973                   -0.382547                 -0.392913  \n",
      "25974                   -0.382547                 -0.392913  \n",
      "25975                   -0.382547                 -0.392913  \n",
      "\n",
      "[25893 rows x 8 columns]\n"
     ]
    }
   ],
   "source": [
    "for feature in num_features:\n",
    "    test_X[feature] = (test_X[feature]-np.mean(test_X[feature])) / np.std(test_X[feature])\n",
    "\n",
    "print(test_X)"
   ]
  },
  {
   "cell_type": "code",
   "execution_count": 13,
   "metadata": {},
   "outputs": [
    {
     "name": "stdout",
     "output_type": "stream",
     "text": [
      "(103594, 8)\n",
      "(103594,)\n",
      "<class 'numpy.ndarray'>\n"
     ]
    }
   ],
   "source": [
    "final_train_X = train_X.to_numpy()\n",
    "final_train_Y = train_Y.to_numpy()\n",
    "final_test_X = test_X.to_numpy()\n",
    "final_test_Y = test_Y.to_numpy()\n",
    "print(final_train_X.shape)\n",
    "print(final_train_Y.shape)\n",
    "print(type(final_train_X))"
   ]
  },
  {
   "cell_type": "markdown",
   "metadata": {},
   "source": [
    "model with sigmoid activation function for the output layer"
   ]
  },
  {
   "cell_type": "code",
   "execution_count": 14,
   "metadata": {},
   "outputs": [
    {
     "name": "stderr",
     "output_type": "stream",
     "text": [
      "c:\\Users\\malek\\AppData\\Local\\Programs\\Python\\Python312\\Lib\\site-packages\\keras\\src\\layers\\core\\dense.py:87: UserWarning: Do not pass an `input_shape`/`input_dim` argument to a layer. When using Sequential models, prefer using an `Input(shape)` object as the first layer in the model instead.\n",
      "  super().__init__(activity_regularizer=activity_regularizer, **kwargs)\n"
     ]
    },
    {
     "name": "stdout",
     "output_type": "stream",
     "text": [
      "Epoch 1/10\n",
      "\u001b[1m3238/3238\u001b[0m \u001b[32m━━━━━━━━━━━━━━━━━━━━\u001b[0m\u001b[37m\u001b[0m \u001b[1m6s\u001b[0m 1ms/step - accuracy: 0.7875 - loss: 0.4826\n",
      "Epoch 2/10\n",
      "\u001b[1m3238/3238\u001b[0m \u001b[32m━━━━━━━━━━━━━━━━━━━━\u001b[0m\u001b[37m\u001b[0m \u001b[1m5s\u001b[0m 1ms/step - accuracy: 0.7988 - loss: 0.4633\n",
      "Epoch 3/10\n",
      "\u001b[1m3238/3238\u001b[0m \u001b[32m━━━━━━━━━━━━━━━━━━━━\u001b[0m\u001b[37m\u001b[0m \u001b[1m5s\u001b[0m 1ms/step - accuracy: 0.7997 - loss: 0.4580\n",
      "Epoch 4/10\n",
      "\u001b[1m3238/3238\u001b[0m \u001b[32m━━━━━━━━━━━━━━━━━━━━\u001b[0m\u001b[37m\u001b[0m \u001b[1m5s\u001b[0m 1ms/step - accuracy: 0.8016 - loss: 0.4571\n",
      "Epoch 5/10\n",
      "\u001b[1m3238/3238\u001b[0m \u001b[32m━━━━━━━━━━━━━━━━━━━━\u001b[0m\u001b[37m\u001b[0m \u001b[1m4s\u001b[0m 1ms/step - accuracy: 0.8024 - loss: 0.4568\n",
      "Epoch 6/10\n",
      "\u001b[1m3238/3238\u001b[0m \u001b[32m━━━━━━━━━━━━━━━━━━━━\u001b[0m\u001b[37m\u001b[0m \u001b[1m4s\u001b[0m 1ms/step - accuracy: 0.8032 - loss: 0.4570\n",
      "Epoch 7/10\n",
      "\u001b[1m3238/3238\u001b[0m \u001b[32m━━━━━━━━━━━━━━━━━━━━\u001b[0m\u001b[37m\u001b[0m \u001b[1m4s\u001b[0m 1ms/step - accuracy: 0.8027 - loss: 0.4567\n",
      "Epoch 8/10\n",
      "\u001b[1m3238/3238\u001b[0m \u001b[32m━━━━━━━━━━━━━━━━━━━━\u001b[0m\u001b[37m\u001b[0m \u001b[1m4s\u001b[0m 1ms/step - accuracy: 0.7999 - loss: 0.4635\n",
      "Epoch 9/10\n",
      "\u001b[1m3238/3238\u001b[0m \u001b[32m━━━━━━━━━━━━━━━━━━━━\u001b[0m\u001b[37m\u001b[0m \u001b[1m5s\u001b[0m 1ms/step - accuracy: 0.8038 - loss: 0.4582\n",
      "Epoch 10/10\n",
      "\u001b[1m3238/3238\u001b[0m \u001b[32m━━━━━━━━━━━━━━━━━━━━\u001b[0m\u001b[37m\u001b[0m \u001b[1m5s\u001b[0m 1ms/step - accuracy: 0.8024 - loss: 0.4622\n"
     ]
    },
    {
     "data": {
      "text/plain": [
       "<keras.src.callbacks.history.History at 0x28b4b89e270>"
      ]
     },
     "execution_count": 14,
     "metadata": {},
     "output_type": "execute_result"
    }
   ],
   "source": [
    "early_stopping = keras.callbacks.EarlyStopping(monitor='loss', \n",
    "                               patience=15,      \n",
    "                               min_delta=0.01,    \n",
    "                               restore_best_weights=True)\n",
    "model = keras.Sequential()\n",
    "model.add(keras.layers.Dense(128, input_shape=(8,), activation=\"relu\"))\n",
    "# model.add(keras.layers.Dropout(0.3))\n",
    "model.add(keras.layers.Dense(256, activation='relu'))\n",
    "# model.add(keras.layers.Dropout(0.3))\n",
    "model.add(keras.layers.Dense(256, activation='relu'))\n",
    "model.add(keras.layers.Dropout(0.3))\n",
    "# model.add(keras.layers.Dense(1, activation='softmax'))\n",
    "model.add(keras.layers.Dense(1, activation='sigmoid'))\n",
    "model.compile(loss=\"binary_crossentropy\", metrics=['accuracy'])\n",
    "model.fit(final_train_X.astype('float32'), final_train_Y.astype('int32'), epochs=10, callbacks=[early_stopping])"
   ]
  },
  {
   "cell_type": "code",
   "execution_count": 15,
   "metadata": {},
   "outputs": [
    {
     "name": "stdout",
     "output_type": "stream",
     "text": [
      "\u001b[1m810/810\u001b[0m \u001b[32m━━━━━━━━━━━━━━━━━━━━\u001b[0m\u001b[37m\u001b[0m \u001b[1m1s\u001b[0m 817us/step - accuracy: 0.7940 - loss: 0.4660\n",
      "Test Accuracy: 79.44%\n"
     ]
    }
   ],
   "source": [
    "loss, accuracy = model.evaluate(final_test_X.astype('float32'), final_test_Y.astype('int32'))\n",
    "print(f\"Test Accuracy: {accuracy * 100:.2f}%\")"
   ]
  },
  {
   "cell_type": "markdown",
   "metadata": {},
   "source": [
    "model with softmax activation function for the output layer"
   ]
  },
  {
   "cell_type": "code",
   "execution_count": 16,
   "metadata": {},
   "outputs": [
    {
     "name": "stdout",
     "output_type": "stream",
     "text": [
      "Epoch 1/10\n"
     ]
    },
    {
     "name": "stderr",
     "output_type": "stream",
     "text": [
      "c:\\Users\\malek\\AppData\\Local\\Programs\\Python\\Python312\\Lib\\site-packages\\keras\\src\\ops\\nn.py:545: UserWarning: You are using a softmax over axis -1 of a tensor of shape (None, 1). This axis has size 1. The softmax operation will always return the value 1, which is likely not what you intended. Did you mean to use a sigmoid instead?\n",
      "  warnings.warn(\n"
     ]
    },
    {
     "name": "stdout",
     "output_type": "stream",
     "text": [
      "\u001b[1m3238/3238\u001b[0m \u001b[32m━━━━━━━━━━━━━━━━━━━━\u001b[0m\u001b[37m\u001b[0m \u001b[1m6s\u001b[0m 2ms/step - accuracy: 0.4329 - loss: 0.5671\n",
      "Epoch 2/10\n",
      "\u001b[1m3238/3238\u001b[0m \u001b[32m━━━━━━━━━━━━━━━━━━━━\u001b[0m\u001b[37m\u001b[0m \u001b[1m6s\u001b[0m 2ms/step - accuracy: 0.4339 - loss: 0.5661\n",
      "Epoch 3/10\n",
      "\u001b[1m3238/3238\u001b[0m \u001b[32m━━━━━━━━━━━━━━━━━━━━\u001b[0m\u001b[37m\u001b[0m \u001b[1m5s\u001b[0m 2ms/step - accuracy: 0.4332 - loss: 0.5668\n",
      "Epoch 4/10\n",
      "\u001b[1m3238/3238\u001b[0m \u001b[32m━━━━━━━━━━━━━━━━━━━━\u001b[0m\u001b[37m\u001b[0m \u001b[1m6s\u001b[0m 2ms/step - accuracy: 0.4318 - loss: 0.5682\n",
      "Epoch 5/10\n",
      "\u001b[1m3238/3238\u001b[0m \u001b[32m━━━━━━━━━━━━━━━━━━━━\u001b[0m\u001b[37m\u001b[0m \u001b[1m5s\u001b[0m 2ms/step - accuracy: 0.4331 - loss: 0.5669\n",
      "Epoch 6/10\n",
      "\u001b[1m3238/3238\u001b[0m \u001b[32m━━━━━━━━━━━━━━━━━━━━\u001b[0m\u001b[37m\u001b[0m \u001b[1m6s\u001b[0m 2ms/step - accuracy: 0.4326 - loss: 0.5674\n",
      "Epoch 7/10\n",
      "\u001b[1m3238/3238\u001b[0m \u001b[32m━━━━━━━━━━━━━━━━━━━━\u001b[0m\u001b[37m\u001b[0m \u001b[1m5s\u001b[0m 2ms/step - accuracy: 0.4361 - loss: 0.5639\n",
      "Epoch 8/10\n",
      "\u001b[1m3238/3238\u001b[0m \u001b[32m━━━━━━━━━━━━━━━━━━━━\u001b[0m\u001b[37m\u001b[0m \u001b[1m6s\u001b[0m 2ms/step - accuracy: 0.4366 - loss: 0.5634\n",
      "Epoch 9/10\n",
      "\u001b[1m3238/3238\u001b[0m \u001b[32m━━━━━━━━━━━━━━━━━━━━\u001b[0m\u001b[37m\u001b[0m \u001b[1m5s\u001b[0m 2ms/step - accuracy: 0.4310 - loss: 0.5690\n",
      "Epoch 10/10\n",
      "\u001b[1m3238/3238\u001b[0m \u001b[32m━━━━━━━━━━━━━━━━━━━━\u001b[0m\u001b[37m\u001b[0m \u001b[1m6s\u001b[0m 2ms/step - accuracy: 0.4335 - loss: 0.5665\n"
     ]
    },
    {
     "data": {
      "text/plain": [
       "<keras.src.callbacks.history.History at 0x28b4c719eb0>"
      ]
     },
     "execution_count": 16,
     "metadata": {},
     "output_type": "execute_result"
    }
   ],
   "source": [
    "model2 = keras.Sequential()\n",
    "model2.add(keras.layers.Dense(128, input_shape=(8,), activation=\"relu\"))\n",
    "# model.add(keras.layers.Dropout(0.3))\n",
    "model2.add(keras.layers.Dense(256, activation='relu'))\n",
    "# model.add(keras.layers.Dropout(0.3))\n",
    "model2.add(keras.layers.Dense(256, activation='relu'))\n",
    "model2.add(keras.layers.Dropout(0.3))\n",
    "model2.add(keras.layers.Dense(1, activation='softmax'))\n",
    "model2.compile(loss=\"mse\", metrics=['accuracy'])\n",
    "model2.fit(final_train_X.astype('float32'), final_train_Y.astype('int32'), epochs=10, callbacks=[early_stopping])"
   ]
  },
  {
   "cell_type": "code",
   "execution_count": 17,
   "metadata": {},
   "outputs": [
    {
     "name": "stdout",
     "output_type": "stream",
     "text": [
      "\u001b[1m810/810\u001b[0m \u001b[32m━━━━━━━━━━━━━━━━━━━━\u001b[0m\u001b[37m\u001b[0m \u001b[1m1s\u001b[0m 885us/step - accuracy: 0.4403 - loss: 0.5597\n",
      "Test Accuracy: 43.89%\n"
     ]
    }
   ],
   "source": [
    "loss2, accuracy2 = model2.evaluate(final_test_X.astype('float32'), final_test_Y.astype('int32'))\n",
    "print(f\"Test Accuracy: {accuracy2 * 100:.2f}%\")"
   ]
  },
  {
   "cell_type": "markdown",
   "metadata": {},
   "source": [
    "trying the same network with  output layer with 2 neurons"
   ]
  },
  {
   "cell_type": "code",
   "execution_count": 20,
   "metadata": {},
   "outputs": [
    {
     "name": "stdout",
     "output_type": "stream",
     "text": [
      "Epoch 1/10\n"
     ]
    },
    {
     "name": "stderr",
     "output_type": "stream",
     "text": [
      "c:\\Users\\malek\\AppData\\Local\\Programs\\Python\\Python312\\Lib\\site-packages\\keras\\src\\layers\\core\\dense.py:87: UserWarning: Do not pass an `input_shape`/`input_dim` argument to a layer. When using Sequential models, prefer using an `Input(shape)` object as the first layer in the model instead.\n",
      "  super().__init__(activity_regularizer=activity_regularizer, **kwargs)\n"
     ]
    },
    {
     "name": "stdout",
     "output_type": "stream",
     "text": [
      "\u001b[1m3238/3238\u001b[0m \u001b[32m━━━━━━━━━━━━━━━━━━━━\u001b[0m\u001b[37m\u001b[0m \u001b[1m5s\u001b[0m 1ms/step - accuracy: 0.7827 - loss: 0.1567\n",
      "Epoch 2/10\n",
      "\u001b[1m3238/3238\u001b[0m \u001b[32m━━━━━━━━━━━━━━━━━━━━\u001b[0m\u001b[37m\u001b[0m \u001b[1m5s\u001b[0m 1ms/step - accuracy: 0.7998 - loss: 0.1464\n",
      "Epoch 3/10\n",
      "\u001b[1m3238/3238\u001b[0m \u001b[32m━━━━━━━━━━━━━━━━━━━━\u001b[0m\u001b[37m\u001b[0m \u001b[1m5s\u001b[0m 1ms/step - accuracy: 0.8014 - loss: 0.1450\n",
      "Epoch 4/10\n",
      "\u001b[1m3238/3238\u001b[0m \u001b[32m━━━━━━━━━━━━━━━━━━━━\u001b[0m\u001b[37m\u001b[0m \u001b[1m5s\u001b[0m 1ms/step - accuracy: 0.8015 - loss: 0.1451\n",
      "Epoch 5/10\n",
      "\u001b[1m3238/3238\u001b[0m \u001b[32m━━━━━━━━━━━━━━━━━━━━\u001b[0m\u001b[37m\u001b[0m \u001b[1m5s\u001b[0m 1ms/step - accuracy: 0.8027 - loss: 0.1445\n",
      "Epoch 6/10\n",
      "\u001b[1m3238/3238\u001b[0m \u001b[32m━━━━━━━━━━━━━━━━━━━━\u001b[0m\u001b[37m\u001b[0m \u001b[1m5s\u001b[0m 1ms/step - accuracy: 0.8025 - loss: 0.1442\n",
      "Epoch 7/10\n",
      "\u001b[1m3238/3238\u001b[0m \u001b[32m━━━━━━━━━━━━━━━━━━━━\u001b[0m\u001b[37m\u001b[0m \u001b[1m4s\u001b[0m 1ms/step - accuracy: 0.8016 - loss: 0.1450\n",
      "Epoch 8/10\n",
      "\u001b[1m3238/3238\u001b[0m \u001b[32m━━━━━━━━━━━━━━━━━━━━\u001b[0m\u001b[37m\u001b[0m \u001b[1m4s\u001b[0m 1ms/step - accuracy: 0.8007 - loss: 0.1457\n",
      "Epoch 9/10\n",
      "\u001b[1m3238/3238\u001b[0m \u001b[32m━━━━━━━━━━━━━━━━━━━━\u001b[0m\u001b[37m\u001b[0m \u001b[1m4s\u001b[0m 1ms/step - accuracy: 0.8037 - loss: 0.1440\n",
      "Epoch 10/10\n",
      "\u001b[1m3238/3238\u001b[0m \u001b[32m━━━━━━━━━━━━━━━━━━━━\u001b[0m\u001b[37m\u001b[0m \u001b[1m4s\u001b[0m 1ms/step - accuracy: 0.8029 - loss: 0.1437\n"
     ]
    },
    {
     "data": {
      "text/plain": [
       "<keras.src.callbacks.history.History at 0x28b5794fe60>"
      ]
     },
     "execution_count": 20,
     "metadata": {},
     "output_type": "execute_result"
    }
   ],
   "source": [
    "final_train_Y_one_hot = np.eye(2)[final_train_Y]\n",
    "model3 = keras.Sequential()\n",
    "model3.add(keras.layers.Dense(128, input_shape=(8,), activation=\"relu\"))\n",
    "# model.add(keras.layers.Dropout(0.3))\n",
    "model3.add(keras.layers.Dense(256, activation='relu'))\n",
    "# model.add(keras.layers.Dropout(0.3))\n",
    "model3.add(keras.layers.Dense(256, activation='relu'))\n",
    "model3.add(keras.layers.Dropout(0.3))\n",
    "model3.add(keras.layers.Dense(2, activation='softmax'))\n",
    "model3.compile(loss=\"mse\", metrics=['accuracy'])\n",
    "model3.fit(final_train_X.astype('float32'), final_train_Y_one_hot.astype('int32'), epochs=10, callbacks=[early_stopping])"
   ]
  },
  {
   "cell_type": "code",
   "execution_count": 24,
   "metadata": {},
   "outputs": [
    {
     "name": "stdout",
     "output_type": "stream",
     "text": [
      "\u001b[1m810/810\u001b[0m \u001b[32m━━━━━━━━━━━━━━━━━━━━\u001b[0m\u001b[37m\u001b[0m \u001b[1m1s\u001b[0m 981us/step\n",
      "[[0.56867325 0.43132672]\n",
      " [0.1730892  0.8269108 ]\n",
      " [0.6847058  0.3152942 ]\n",
      " ...\n",
      " [0.85184497 0.14815503]\n",
      " [0.28967094 0.7103291 ]\n",
      " [0.8877806  0.11221936]]\n"
     ]
    }
   ],
   "source": [
    "print(model3.predict(final_test_X.astype('float32')))"
   ]
  },
  {
   "cell_type": "code",
   "execution_count": 23,
   "metadata": {},
   "outputs": [
    {
     "name": "stdout",
     "output_type": "stream",
     "text": [
      "\u001b[1m810/810\u001b[0m \u001b[32m━━━━━━━━━━━━━━━━━━━━\u001b[0m\u001b[37m\u001b[0m \u001b[1m1s\u001b[0m 805us/step - accuracy: 0.7969 - loss: 0.1470\n",
      "Test Accuracy: 79.60%\n"
     ]
    }
   ],
   "source": [
    "final_test_Y_one_hot = np.eye(2)[final_test_Y]\n",
    "loss3, accuracy3 = model3.evaluate(final_test_X.astype('float32'), final_test_Y_one_hot.astype('float32'))\n",
    "print(f\"Test Accuracy: {accuracy3 * 100:.2f}%\")"
   ]
  }
 ],
 "metadata": {
  "kernelspec": {
   "display_name": "Python 3",
   "language": "python",
   "name": "python3"
  },
  "language_info": {
   "codemirror_mode": {
    "name": "ipython",
    "version": 3
   },
   "file_extension": ".py",
   "mimetype": "text/x-python",
   "name": "python",
   "nbconvert_exporter": "python",
   "pygments_lexer": "ipython3",
   "version": "3.12.3"
  }
 },
 "nbformat": 4,
 "nbformat_minor": 2
}
